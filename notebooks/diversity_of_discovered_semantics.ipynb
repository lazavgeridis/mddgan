{
  "cells": [
    {
      "cell_type": "markdown",
      "source": [
        "**Enable GPU** (Runtime > Change runtime type > GPU)"
      ],
      "metadata": {
        "id": "iWtfTmmOTouq"
      }
    },
    {
      "cell_type": "code",
      "execution_count": 1,
      "metadata": {
        "colab": {
          "base_uri": "https://localhost:8080/"
        },
        "id": "BaBoqSlaEW9S",
        "outputId": "c02f1af7-c669-476d-b121-8a290c5e9063"
      },
      "outputs": [
        {
          "output_type": "stream",
          "name": "stdout",
          "text": [
            "Fri Sep 16 09:25:30 2022       \n",
            "+-----------------------------------------------------------------------------+\n",
            "| NVIDIA-SMI 460.32.03    Driver Version: 460.32.03    CUDA Version: 11.2     |\n",
            "|-------------------------------+----------------------+----------------------+\n",
            "| GPU  Name        Persistence-M| Bus-Id        Disp.A | Volatile Uncorr. ECC |\n",
            "| Fan  Temp  Perf  Pwr:Usage/Cap|         Memory-Usage | GPU-Util  Compute M. |\n",
            "|                               |                      |               MIG M. |\n",
            "|===============================+======================+======================|\n",
            "|   0  Tesla T4            Off  | 00000000:00:04.0 Off |                    0 |\n",
            "| N/A   46C    P8     9W /  70W |      0MiB / 15109MiB |      0%      Default |\n",
            "|                               |                      |                  N/A |\n",
            "+-------------------------------+----------------------+----------------------+\n",
            "                                                                               \n",
            "+-----------------------------------------------------------------------------+\n",
            "| Processes:                                                                  |\n",
            "|  GPU   GI   CI        PID   Type   Process name                  GPU Memory |\n",
            "|        ID   ID                                                   Usage      |\n",
            "|=============================================================================|\n",
            "|  No running processes found                                                 |\n",
            "+-----------------------------------------------------------------------------+\n"
          ]
        }
      ],
      "source": [
        "!nvidia-smi"
      ]
    },
    {
      "cell_type": "markdown",
      "source": [
        "Clone MddGAN repo"
      ],
      "metadata": {
        "id": "KemTWzfXTzKv"
      }
    },
    {
      "cell_type": "code",
      "execution_count": 2,
      "metadata": {
        "colab": {
          "base_uri": "https://localhost:8080/"
        },
        "id": "FLXOMtqKEsIg",
        "outputId": "0b0429a5-e973-4077-deb4-9832afa6548b"
      },
      "outputs": [
        {
          "output_type": "stream",
          "name": "stdout",
          "text": [
            "Cloning into 'mddgan'...\n",
            "remote: Enumerating objects: 364, done.\u001b[K\n",
            "remote: Counting objects: 100% (364/364), done.\u001b[K\n",
            "remote: Compressing objects: 100% (288/288), done.\u001b[K\n",
            "remote: Total 364 (delta 152), reused 286 (delta 74), pack-reused 0\u001b[K\n",
            "Receiving objects: 100% (364/364), 4.80 MiB | 20.16 MiB/s, done.\n",
            "Resolving deltas: 100% (152/152), done.\n"
          ]
        }
      ],
      "source": [
        "import os\n",
        "\n",
        "os.chdir('/content')\n",
        "CODE_DIR = 'mddgan'\n",
        "!git clone https://9c58f255e81847185f11d4074e7f97e05699da27@github.com/lazavgeridis/mddgan.git $CODE_DIR\n",
        "os.chdir(f'./{CODE_DIR}')"
      ]
    },
    {
      "cell_type": "code",
      "source": [
        "!pip install tensorly"
      ],
      "metadata": {
        "colab": {
          "base_uri": "https://localhost:8080/"
        },
        "id": "D3Ys95dyeEfw",
        "outputId": "29761359-7c86-4e5f-e671-67b62ec14e63"
      },
      "execution_count": 3,
      "outputs": [
        {
          "output_type": "stream",
          "name": "stdout",
          "text": [
            "Looking in indexes: https://pypi.org/simple, https://us-python.pkg.dev/colab-wheels/public/simple/\n",
            "Collecting tensorly\n",
            "  Downloading tensorly-0.7.0-py3-none-any.whl (198 kB)\n",
            "\u001b[K     |████████████████████████████████| 198 kB 29.4 MB/s \n",
            "\u001b[?25hRequirement already satisfied: numpy in /usr/local/lib/python3.7/dist-packages (from tensorly) (1.21.6)\n",
            "Requirement already satisfied: scipy in /usr/local/lib/python3.7/dist-packages (from tensorly) (1.7.3)\n",
            "Collecting nose\n",
            "  Downloading nose-1.3.7-py3-none-any.whl (154 kB)\n",
            "\u001b[K     |████████████████████████████████| 154 kB 69.3 MB/s \n",
            "\u001b[?25hInstalling collected packages: nose, tensorly\n",
            "Successfully installed nose-1.3.7 tensorly-0.7.0\n"
          ]
        }
      ]
    },
    {
      "cell_type": "markdown",
      "metadata": {
        "id": "wzGNfnQU9Rb7"
      },
      "source": [
        "GAN Model Selection"
      ]
    },
    {
      "cell_type": "code",
      "source": [
        "#@title { display-mode: \"form\", run: \"auto\" }\n",
        "gan_model_name = \"stylegan_celebahq1024\" #@param ['stylegan_ffhq1024', 'stylegan_celebahq1024']"
      ],
      "metadata": {
        "id": "rGYH9IVOVj-7"
      },
      "execution_count": 10,
      "outputs": []
    },
    {
      "cell_type": "markdown",
      "source": [
        "Build selected GAN model and load pre-trained weights"
      ],
      "metadata": {
        "id": "Rt1WMQtUVwVK"
      }
    },
    {
      "cell_type": "code",
      "execution_count": 11,
      "metadata": {
        "colab": {
          "base_uri": "https://localhost:8080/"
        },
        "id": "N8WEY2DjFCWc",
        "outputId": "4c93c102-15bd-408f-946c-571b9987724f"
      },
      "outputs": [
        {
          "output_type": "stream",
          "name": "stdout",
          "text": [
            "Building generator for model `stylegan_celebahq1024` ...\n",
            "Finish building generator.\n",
            "Loading checkpoint from `checkpoints/stylegan_celebahq1024.pth` ...\n",
            "  Downloading checkpoint from `https://mycuhk-my.sharepoint.com/:u:/g/personal/1155082926_link_cuhk_edu_hk/EcCdXHddE7FOvyfmqeOyc9ABqVuWh8PQYFnV6JM1CXvFig?e=1nUYZ5&download=1` ...\n",
            "  Finish downloading checkpoint.\n",
            "Finish loading checkpoint.\n"
          ]
        }
      ],
      "source": [
        "from models import parse_gan_type\n",
        "from utils  import load_generator, parse_indices\n",
        "\n",
        "generator = load_generator(gan_model_name).cuda()\n",
        "gan_type  = parse_gan_type(generator)"
      ]
    },
    {
      "cell_type": "markdown",
      "metadata": {
        "id": "Dk0gyUMU_zRR"
      },
      "source": [
        "Utility Functions"
      ]
    },
    {
      "cell_type": "code",
      "execution_count": 12,
      "metadata": {
        "id": "emt4IWwKKflM"
      },
      "outputs": [],
      "source": [
        "from visualization import postprocess, interpolation\n",
        "from torchvision.utils import make_grid\n",
        "from matplotlib import pyplot as plt\n",
        "from PIL import Image\n",
        "%matplotlib inline\n",
        "\n",
        "def create_horizontal_chart(generator,\n",
        "                            gan_type,\n",
        "                            directions,\n",
        "                            text,\n",
        "                            layer_indices,\n",
        "                            latent_codes,\n",
        "                            magnitudes,\n",
        "                            step,\n",
        "                            n_samples=1):\n",
        "  \n",
        "  fig, axs = plt.subplots(nrows=n_samples, ncols=len(directions), dpi=600, constrained_layout=True)\n",
        "\n",
        "  for sample_idx in range(n_samples):\n",
        "    code_idx = int(input('> Choose latent code index to use for comparison : '))\n",
        "    code = latent_codes[code_idx: code_idx + 1]\n",
        "\n",
        "    for direction_idx, ax in enumerate(axs.flat):\n",
        "      #ax = axs[direction_idx] if n_samples == 1 else axs[sample_idx, direction_idx]\n",
        "      ax.axis('off')\n",
        "      ax.imshow(postprocess(make_grid(interpolation(generator, layer_indices[direction_idx], gan_type, code, directions[direction_idx], magnitudes), nrow=step)))\n",
        "      ax.text(0.5, 0, \n",
        "               text[direction_idx], \n",
        "               horizontalalignment='center',\n",
        "               verticalalignment='top', \n",
        "               fontsize='small',\n",
        "               transform=ax.transAxes)"
      ]
    },
    {
      "cell_type": "markdown",
      "source": [
        "Set random seed for reproducibility"
      ],
      "metadata": {
        "id": "yKbS6McDbP8I"
      }
    },
    {
      "cell_type": "code",
      "execution_count": 13,
      "metadata": {
        "id": "9k5GHB_8JGBJ"
      },
      "outputs": [],
      "source": [
        "import torch\n",
        "import numpy as np\n",
        "\n",
        "# set random seed\n",
        "seed = 13\n",
        "np.random.seed(seed)\n",
        "torch.manual_seed(seed)\n",
        "\n",
        "# prepare interpolation magnitudes\n",
        "start = -2.0  #-2.0, -3.0, -5.0\n",
        "end = 2.0     # 2.0, 3.0, 5.0\n",
        "step = 3\n",
        "magnitudes = np.linspace(start, end, step)\n",
        "\n",
        "num_samples = 20\n",
        "codes = torch.randn(num_samples, generator.z_space_dim, device='cuda')\n",
        "if gan_type == 'pggan':\n",
        "  codes = generator.layer0.pixel_norm(codes)\n",
        "elif gan_type in ['stylegan', 'stylegan2']:\n",
        "  trunc_psi = 0.7\n",
        "  trunc_layers = 8\n",
        "  codes = generator.mapping(codes)['w']\n",
        "  codes = generator.truncation(codes, trunc_psi=trunc_psi, trunc_layers=trunc_layers)\n",
        "codes = codes.detach().cpu()"
      ]
    },
    {
      "cell_type": "markdown",
      "metadata": {
        "id": "aqPxkuktAV-w"
      },
      "source": [
        "Create horizontal chart"
      ]
    },
    {
      "cell_type": "code",
      "execution_count": 14,
      "metadata": {
        "colab": {
          "base_uri": "https://localhost:8080/",
          "height": 238
        },
        "id": "COeZc_nlFZkM",
        "outputId": "d738a8a7-d524-40b3-f9c6-5213767eeeec"
      },
      "outputs": [
        {
          "output_type": "error",
          "ename": "KeyError",
          "evalue": "ignored",
          "traceback": [
            "\u001b[0;31m---------------------------------------------------------------------------\u001b[0m",
            "\u001b[0;31mKeyError\u001b[0m                                  Traceback (most recent call last)",
            "\u001b[0;32m<ipython-input-14-acc1244f387e>\u001b[0m in \u001b[0;36m<module>\u001b[0;34m\u001b[0m\n\u001b[1;32m     29\u001b[0m   \u001b[0;31m# retrieve layers to apply the edit\u001b[0m\u001b[0;34m\u001b[0m\u001b[0;34m\u001b[0m\u001b[0;34m\u001b[0m\u001b[0m\n\u001b[1;32m     30\u001b[0m   \u001b[0mmodel_attributes\u001b[0m \u001b[0;34m=\u001b[0m \u001b[0mATTRIBUTES\u001b[0m\u001b[0;34m[\u001b[0m\u001b[0mgan_model_name\u001b[0m\u001b[0;34m]\u001b[0m\u001b[0;34m\u001b[0m\u001b[0;34m\u001b[0m\u001b[0m\n\u001b[0;32m---> 31\u001b[0;31m   \u001b[0mlayer_range\u001b[0m\u001b[0;34m,\u001b[0m \u001b[0m_\u001b[0m \u001b[0;34m=\u001b[0m \u001b[0mmodel_attributes\u001b[0m\u001b[0;34m[\u001b[0m\u001b[0mattr_name\u001b[0m\u001b[0;34m]\u001b[0m\u001b[0;34m\u001b[0m\u001b[0;34m\u001b[0m\u001b[0m\n\u001b[0m\u001b[1;32m     32\u001b[0m   \u001b[0mlayers\u001b[0m \u001b[0;34m=\u001b[0m \u001b[0mparse_indices\u001b[0m\u001b[0;34m(\u001b[0m\u001b[0mlayer_range\u001b[0m\u001b[0;34m,\u001b[0m \u001b[0mmin_val\u001b[0m\u001b[0;34m=\u001b[0m\u001b[0;36m0\u001b[0m\u001b[0;34m,\u001b[0m \u001b[0mmax_val\u001b[0m\u001b[0;34m=\u001b[0m\u001b[0mgenerator\u001b[0m\u001b[0;34m.\u001b[0m\u001b[0mnum_layers\u001b[0m \u001b[0;34m-\u001b[0m \u001b[0;36m1\u001b[0m\u001b[0;34m)\u001b[0m\u001b[0;34m\u001b[0m\u001b[0;34m\u001b[0m\u001b[0m\n\u001b[1;32m     33\u001b[0m   \u001b[0mlayer_indices\u001b[0m\u001b[0;34m.\u001b[0m\u001b[0mappend\u001b[0m\u001b[0;34m(\u001b[0m\u001b[0mlayers\u001b[0m\u001b[0;34m)\u001b[0m\u001b[0;34m\u001b[0m\u001b[0;34m\u001b[0m\u001b[0m\n",
            "\u001b[0;31mKeyError\u001b[0m: 'face_shape_1'"
          ]
        }
      ],
      "source": [
        "from directions import ATTRIBUTES\n",
        "\n",
        "SEMANTICS_DIR = 'semantics'\n",
        "\n",
        "# choose and load semantic attribute for both methods\n",
        "#ATTRIBUTES_FFHQ = {'pose' : '0-6', 'gender' : '2-4', 'age' : '2,4,5,6', \n",
        "#                   'smile' : '3', 'eyeglasses' : '0-2', 'race1' : '7-12',\n",
        "#                   'race2' : '5-7', 'lighting' : '5-8'}\n",
        "#ATTRIBUTES_CELEBAHQ = {'pose' : '0-3', 'gender' : '0-1', 'age' : '5-7', \n",
        "#                       'smile' : '0-3', 'eyeglasses' : '0-1', \n",
        "#                       'face_shape_1' : '2', 'face_shape_2' : '0-1', \n",
        "#                       'zoom' : '0-3', 'hair' : '1-3'}\n",
        "\n",
        "celebahq_attributes = ['face_shape_1', 'zoom', 'hair']\n",
        "ffhq_attributes = ['race1', 'race2', 'lighting']\n",
        "\n",
        "if gan_model_name == 'stylegan_celebahq1024':\n",
        "  attributes = celebahq_attributes\n",
        "elif gan_model_name == 'stylegan_ffhq1024':\n",
        "  attributes = ffhq_attributes\n",
        "\n",
        "directions = []\n",
        "layer_indices = []\n",
        "text = []\n",
        "for attr_name in attributes:\n",
        "  mddgan_semantic = np.load(f'semantics/mddgan/{gan_model_name}_{attr_name}.npy')\n",
        "  directions.append(mddgan_semantic)\n",
        "\n",
        "  # retrieve layers to apply the edit\n",
        "  model_attributes = ATTRIBUTES[gan_model_name]\n",
        "  layer_range, _ = model_attributes[attr_name]\n",
        "  layers = parse_indices(layer_range, min_val=0, max_val=generator.num_layers - 1)\n",
        "  layer_indices.append(layers)\n",
        "\n",
        "  desc = attr_name.split('_')\n",
        "  desc = ' '.join(desc).capitalize()\n",
        "  if desc == 'Race1':\n",
        "    desc = 'Skin tone'\n",
        "  elif desc == 'Race2':\n",
        "    desc = 'Eyes shape'\n",
        "  elif desc == 'Face shape 1':\n",
        "    desc = 'Face shape'\n",
        "  text.append(f'- {desc} +')\n",
        "\n",
        "create_horizontal_chart(generator,\n",
        "                        gan_type,\n",
        "                        directions,\n",
        "                        text,\n",
        "                        layer_indices,\n",
        "                        codes,\n",
        "                        magnitudes,\n",
        "                        step,\n",
        "                        n_samples=1)"
      ]
    },
    {
      "cell_type": "code",
      "execution_count": null,
      "metadata": {
        "id": "U7o72beiKo3Z"
      },
      "outputs": [],
      "source": [
        "#RESULTS_DIR = 'results'\n",
        "#\n",
        "## draw horizontal line\n",
        "##line = plt.Line2D([0.1, 0.9], [0.5, 0.5], color=\"k\", linewidth=1)\n",
        "##fig.add_artist(line)\n",
        "#\n",
        "##grid = draw_chart(fig)\n",
        "#out_file = os.path.join(RESULTS_DIR, \n",
        "#                        f'mddgan_{model_name}_diversity.jpg')\n",
        "#fig.savefig(out_file, bbox_inches='tight')\n",
        "#fig.clf()\n",
        "#plt.close(fig)\n",
        "##Image.fromarray(grid).save(out_file) "
      ]
    }
  ],
  "metadata": {
    "accelerator": "GPU",
    "colab": {
      "collapsed_sections": [],
      "provenance": []
    },
    "kernelspec": {
      "display_name": "Python 3",
      "name": "python3"
    },
    "language_info": {
      "name": "python"
    }
  },
  "nbformat": 4,
  "nbformat_minor": 0
}